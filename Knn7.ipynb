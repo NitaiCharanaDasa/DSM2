{
 "cells": [
  {
   "cell_type": "markdown",
   "id": "274f6b4b-26ba-4a4c-b8b9-43704d41e21b",
   "metadata": {},
   "source": [
    "# KNN 6"
   ]
  },
  {
   "cell_type": "markdown",
   "id": "a13870cb-8bdd-41e2-8bbc-e6d0e163fb52",
   "metadata": {},
   "source": [
    "Answers"
   ]
  },
  {
   "cell_type": "markdown",
   "id": "b648aa12-78bc-4015-b151-bd5f009632a8",
   "metadata": {},
   "source": [
    "1. **Eigenvalues and Eigenvectors:**\n",
    "   - **Eigenvalues:** For a square matrix A, scalars λ such that det(A - λI) = 0.\n",
    "   - **Eigenvectors:** For each eigenvalue λ, non-zero vectors v such that Av = λv.\n",
    "   - **Eigen-Decomposition:** A = PDP^(-1), where P is the matrix of eigenvectors, and D is the diagonal matrix of eigenvalues.\n",
    "   - *Example:* Consider a 2x2 matrix A = [[3, 1], [0, 2]]. Its eigenvalues are λ₁ = 3 and λ₂ = 2. Corresponding eigenvectors are [1, 0] and [1, 1].\n",
    "\n",
    "2. **Eigen Decomposition and Significance:**\n",
    "   - Eigen decomposition expresses a square matrix as a product of its eigenvectors and eigenvalues.\n",
    "   - It is significant as it simplifies matrix operations, allows easy computation of matrix powers, and provides insights into the matrix's behavior.\n",
    "\n",
    "3. **Conditions for Diagonalizability:**\n",
    "   - A square matrix A is diagonalizable if it has n linearly independent eigenvectors, where n is the matrix's size.\n",
    "   - **Proof:** If A has n linearly independent eigenvectors, the matrix P formed by these eigenvectors is invertible, and A can be diagonalized as A = PDP^(-1).\n",
    "\n",
    "4. **Significance of Spectral Theorem:**\n",
    "   - Spectral theorem states that for a symmetric matrix, the eigenvectors form an orthogonal basis.\n",
    "   - This is significant because a symmetric matrix is always diagonalizable, simplifying the eigen decomposition.\n",
    "   - *Example:* A = [[4, 1], [1, 3]] is symmetric, and its eigenvectors form an orthogonal basis.\n",
    "\n",
    "5. **Finding Eigenvalues:**\n",
    "   - Solve the characteristic equation det(A - λI) = 0.\n",
    "   - For a 2x2 matrix A = [[a, b], [c, d]], the characteristic equation is det(A - λI) = (a-λ)(d-λ) - bc = 0.\n",
    "\n",
    "6. **Eigenvectors and Eigenvalues:**\n",
    "   - **Eigenvectors:** Non-zero vectors v for which Av = λv, where λ is the eigenvalue.\n",
    "   - **Eigenvalues:** Scalars λ such that Av = λv for some non-zero vector v.\n",
    "\n",
    "7. **Geometric Interpretation of Eigenvectors and Eigenvalues:**\n",
    "   - Eigenvectors represent directions that remain unchanged in a linear transformation.\n",
    "   - Eigenvalues represent scaling factors along those eigenvector directions.\n",
    "\n",
    "8. **Real-World Applications of Eigen Decomposition:**\n",
    "   - Image compression (eigenvectors represent principal components).\n",
    "   - Principal Component Analysis (PCA) in data analysis.\n",
    "   - Solving linear differential equations in physics and engineering.\n",
    "\n",
    "9. **Multiple Sets of Eigenvectors and Eigenvalues:**\n",
    "   - A matrix can have different sets of linearly independent eigenvectors and corresponding eigenvalues.\n",
    "   - Different eigenvector sets may arise based on normalization or ordering.\n",
    "\n",
    "10. **Applications of Eigen-Decomposition in Data Analysis and ML:**\n",
    "    - **Principal Component Analysis (PCA):** Reduces dimensionality by finding the principal components.\n",
    "    - **Singular Value Decomposition (SVD):** Generalization of eigen decomposition, used in various ML techniques.\n",
    "    - **Kernel PCA:** Non-linear dimensionality reduction technique based on eigen decomposition of the kernel matrix."
   ]
  },
  {
   "cell_type": "code",
   "execution_count": null,
   "id": "0efec8c7-c9d4-4dad-976d-eb180600473f",
   "metadata": {},
   "outputs": [],
   "source": []
  }
 ],
 "metadata": {
  "kernelspec": {
   "display_name": "Python 3 (ipykernel)",
   "language": "python",
   "name": "python3"
  },
  "language_info": {
   "codemirror_mode": {
    "name": "ipython",
    "version": 3
   },
   "file_extension": ".py",
   "mimetype": "text/x-python",
   "name": "python",
   "nbconvert_exporter": "python",
   "pygments_lexer": "ipython3",
   "version": "3.10.8"
  }
 },
 "nbformat": 4,
 "nbformat_minor": 5
}
