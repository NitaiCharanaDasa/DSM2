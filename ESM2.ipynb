{
 "cells": [
  {
   "cell_type": "markdown",
   "id": "40f6369a-b152-406e-ad9a-2858c73094b0",
   "metadata": {},
   "source": [
    "# ESM 2"
   ]
  },
  {
   "cell_type": "markdown",
   "id": "9e7bb662-621b-4dd5-abd1-252047994143",
   "metadata": {},
   "source": [
    "Answers"
   ]
  },
  {
   "cell_type": "markdown",
   "id": "4cc66bb5-c0a5-440b-9838-cfb51d199661",
   "metadata": {},
   "source": [
    ". Bagging reduces overfitting in decision trees by training multiple trees on different subsets of the data, averaging their predictions, which helps to smooth out individual tree idiosyncrasies and improve overall generalization.\n",
    "\n",
    "2. Advantages of using different types of base learners in bagging include increased diversity and robustness, while disadvantages may arise if the base learners are highly correlated or if they have low predictive power.\n",
    "\n",
    "3. The choice of base learner in bagging can impact the bias-variance tradeoff. Diverse base learners may collectively reduce bias and variance, leading to a more balanced model.\n",
    "\n",
    "4. Yes, bagging can be used for both classification and regression tasks. In classification, the ensemble output is often determined by a majority or weighted voting, while in regression, it typically involves averaging the predictions.\n",
    "\n",
    "5. The ensemble size in bagging influences performance. Initially, increasing the number of models reduces overfitting, but there's a point of diminishing returns. A balance needs to be struck between computational resources and the desired level of improvement.\n",
    "\n",
    "6. A real-world application of bagging is in healthcare, where it can be used for predicting patient outcomes based on diverse sets of medical data. Bagging helps improve prediction accuracy by combining multiple models, making the system more robust and less prone to overfitting on specific patient characteristics."
   ]
  },
  {
   "cell_type": "code",
   "execution_count": null,
   "id": "0aab82bf-db5c-497a-a7c6-cc82d1701c16",
   "metadata": {},
   "outputs": [],
   "source": []
  }
 ],
 "metadata": {
  "kernelspec": {
   "display_name": "Python 3 (ipykernel)",
   "language": "python",
   "name": "python3"
  },
  "language_info": {
   "codemirror_mode": {
    "name": "ipython",
    "version": 3
   },
   "file_extension": ".py",
   "mimetype": "text/x-python",
   "name": "python",
   "nbconvert_exporter": "python",
   "pygments_lexer": "ipython3",
   "version": "3.11.4"
  }
 },
 "nbformat": 4,
 "nbformat_minor": 5
}
