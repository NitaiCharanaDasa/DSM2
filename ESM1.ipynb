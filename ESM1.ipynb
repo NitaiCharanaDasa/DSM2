{
 "cells": [
  {
   "cell_type": "markdown",
   "id": "f9784f17-48a8-4f64-8198-4316a7598be6",
   "metadata": {},
   "source": [
    "Q1. What is an ensemble technique in machine learning?\n",
    "\n",
    "\n",
    "Q2. Why are ensemble techniques used in machine learning?\n",
    "\n",
    "\n",
    "Q3. What is bagging?\n",
    "\n",
    "\n",
    "Q4. What is boosting?\n",
    "\n",
    "\n",
    "Q5. What are the benefits of using ensemble techniques?\n",
    "\n",
    "\n",
    "Q6. Are ensemble techniques always better than individual models?\n",
    "\n",
    "\n",
    "Q7. How is the confidence interval calculated using bootstrap?\n",
    "\n",
    "\n",
    "Q8. How does bootstrap work and What are the steps involved in bootstrap?\n",
    "\n",
    "\n",
    "Q9. A researcher wants to estimate the mean height of a population of trees. They measure the height of a \n",
    "\n",
    "sample of 50 trees and obtain a mean height of 15 meters and a standard deviation of 2 meters. Use \n",
    "\n",
    "bootstrap to estimate the 95% confidence interval for the population mean height."
   ]
  },
  {
   "cell_type": "markdown",
   "id": "773e5a6a-8bae-4784-80ac-e39ae61a23c4",
   "metadata": {},
   "source": [
    "1. An ensemble technique in machine learning involves combining multiple models to make more accurate and robust predictions than individual models.\n",
    "\n",
    "2. Ensemble techniques are used in machine learning to improve model performance, reduce overfitting, and enhance generalization by leveraging the diversity of multiple models.\n",
    "\n",
    "3. Bagging (Bootstrap Aggregating) is an ensemble technique where multiple models are trained on different subsets of the training data, and their predictions are combined through averaging or voting.\n",
    "\n",
    "4. Boosting is an ensemble technique that focuses on sequentially training models, with each subsequent model giving more weight to misclassified instances from the previous ones, aiming to correct errors and improve overall performance.\n",
    "\n",
    "5. Benefits of using ensemble techniques include improved accuracy, robustness against overfitting, better generalization, and increased model stability.\n",
    "\n",
    "6. Ensemble techniques are not always guaranteed to be better than individual models, but they often outperform them, especially when there is diversity among the base models.\n",
    "\n",
    "7. The confidence interval using bootstrap is calculated by repeatedly resampling the dataset with replacement, calculating the statistic of interest each time, and then determining the range that contains the desired level of confidence.\n",
    "\n",
    "8. Bootstrap works by repeatedly sampling with replacement from the original dataset to create multiple bootstrap samples. The steps involve drawing random samples, calculating the statistic of interest for each sample, and then using the distribution of these statistics to estimate confidence intervals or standard errors.\n",
    "\n",
    "9. To estimate the 95% confidence interval for the population mean height using bootstrap, the researcher would repeatedly sample with replacement from the observed heights, calculate the mean for each sample, and then determine the range that contains 95% of the bootstrap sample means."
   ]
  },
  {
   "cell_type": "code",
   "execution_count": null,
   "id": "359aa2b5-e563-4041-85ef-83378444c039",
   "metadata": {},
   "outputs": [],
   "source": []
  }
 ],
 "metadata": {
  "kernelspec": {
   "display_name": "Python 3 (ipykernel)",
   "language": "python",
   "name": "python3"
  },
  "language_info": {
   "codemirror_mode": {
    "name": "ipython",
    "version": 3
   },
   "file_extension": ".py",
   "mimetype": "text/x-python",
   "name": "python",
   "nbconvert_exporter": "python",
   "pygments_lexer": "ipython3",
   "version": "3.11.4"
  }
 },
 "nbformat": 4,
 "nbformat_minor": 5
}
